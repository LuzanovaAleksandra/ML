{
 "cells": [
  {
   "cell_type": "code",
   "execution_count": 7,
   "metadata": {},
   "outputs": [],
   "source": [
    "# Regression Neural Network"
   ]
  },
  {
   "cell_type": "code",
   "execution_count": 1,
   "metadata": {},
   "outputs": [],
   "source": [
    "# Importing the libraries\n",
    "import numpy as np\n",
    "import matplotlib.pyplot as plt\n",
    "import pandas as pd"
   ]
  },
  {
   "cell_type": "code",
   "execution_count": 2,
   "metadata": {},
   "outputs": [],
   "source": [
    "# Importing the dataset\n",
    "df = pd.read_csv('flats_prep.csv', sep=';')"
   ]
  },
  {
   "cell_type": "code",
   "execution_count": 3,
   "metadata": {},
   "outputs": [],
   "source": [
    "# Feature Scaling\n",
    "from sklearn.preprocessing import StandardScaler\n",
    "sc = StandardScaler()\n",
    "dfsc = sc.fit_transform(df)\n",
    "df['rooms'] = dfsc[:,0]\n",
    "df['m2'] = dfsc[:,3]\n",
    "df['price'] = dfsc[:,5]"
   ]
  },
  {
   "cell_type": "code",
   "execution_count": 4,
   "metadata": {
    "scrolled": true
   },
   "outputs": [
    {
     "data": {
      "text/html": [
       "<div>\n",
       "<style scoped>\n",
       "    .dataframe tbody tr th:only-of-type {\n",
       "        vertical-align: middle;\n",
       "    }\n",
       "\n",
       "    .dataframe tbody tr th {\n",
       "        vertical-align: top;\n",
       "    }\n",
       "\n",
       "    .dataframe thead th {\n",
       "        text-align: right;\n",
       "    }\n",
       "</style>\n",
       "<table border=\"1\" class=\"dataframe\">\n",
       "  <thead>\n",
       "    <tr style=\"text-align: right;\">\n",
       "      <th></th>\n",
       "      <th>rooms</th>\n",
       "      <th>location</th>\n",
       "      <th>condition</th>\n",
       "      <th>m2</th>\n",
       "      <th>type</th>\n",
       "      <th>price</th>\n",
       "    </tr>\n",
       "  </thead>\n",
       "  <tbody>\n",
       "    <tr>\n",
       "      <th>rooms</th>\n",
       "      <td>1.000000</td>\n",
       "      <td>-0.060645</td>\n",
       "      <td>-0.342692</td>\n",
       "      <td>0.738398</td>\n",
       "      <td>0.272505</td>\n",
       "      <td>0.594447</td>\n",
       "    </tr>\n",
       "    <tr>\n",
       "      <th>location</th>\n",
       "      <td>-0.060645</td>\n",
       "      <td>1.000000</td>\n",
       "      <td>-0.122117</td>\n",
       "      <td>-0.288718</td>\n",
       "      <td>0.109806</td>\n",
       "      <td>-0.316291</td>\n",
       "    </tr>\n",
       "    <tr>\n",
       "      <th>condition</th>\n",
       "      <td>-0.342692</td>\n",
       "      <td>-0.122117</td>\n",
       "      <td>1.000000</td>\n",
       "      <td>-0.082482</td>\n",
       "      <td>-0.769335</td>\n",
       "      <td>-0.163575</td>\n",
       "    </tr>\n",
       "    <tr>\n",
       "      <th>m2</th>\n",
       "      <td>0.738398</td>\n",
       "      <td>-0.288718</td>\n",
       "      <td>-0.082482</td>\n",
       "      <td>1.000000</td>\n",
       "      <td>-0.043620</td>\n",
       "      <td>0.885215</td>\n",
       "    </tr>\n",
       "    <tr>\n",
       "      <th>type</th>\n",
       "      <td>0.272505</td>\n",
       "      <td>0.109806</td>\n",
       "      <td>-0.769335</td>\n",
       "      <td>-0.043620</td>\n",
       "      <td>1.000000</td>\n",
       "      <td>0.020591</td>\n",
       "    </tr>\n",
       "    <tr>\n",
       "      <th>price</th>\n",
       "      <td>0.594447</td>\n",
       "      <td>-0.316291</td>\n",
       "      <td>-0.163575</td>\n",
       "      <td>0.885215</td>\n",
       "      <td>0.020591</td>\n",
       "      <td>1.000000</td>\n",
       "    </tr>\n",
       "  </tbody>\n",
       "</table>\n",
       "</div>"
      ],
      "text/plain": [
       "              rooms  location  condition        m2      type     price\n",
       "rooms      1.000000 -0.060645  -0.342692  0.738398  0.272505  0.594447\n",
       "location  -0.060645  1.000000  -0.122117 -0.288718  0.109806 -0.316291\n",
       "condition -0.342692 -0.122117   1.000000 -0.082482 -0.769335 -0.163575\n",
       "m2         0.738398 -0.288718  -0.082482  1.000000 -0.043620  0.885215\n",
       "type       0.272505  0.109806  -0.769335 -0.043620  1.000000  0.020591\n",
       "price      0.594447 -0.316291  -0.163575  0.885215  0.020591  1.000000"
      ]
     },
     "execution_count": 4,
     "metadata": {},
     "output_type": "execute_result"
    }
   ],
   "source": [
    "# Cheking correlations\n",
    "df.corr()"
   ]
  },
  {
   "cell_type": "code",
   "execution_count": 5,
   "metadata": {},
   "outputs": [],
   "source": [
    "# Splitting the dataset into the Training set and Test set\n",
    "X = df.iloc[:, 0:4].values\n",
    "y = df.iloc[:, 5].values\n",
    "from sklearn.model_selection import train_test_split\n",
    "X_train, X_test, y_train, y_test = train_test_split(X, y, test_size=0.2, random_state=0)"
   ]
  },
  {
   "cell_type": "code",
   "execution_count": 6,
   "metadata": {},
   "outputs": [
    {
     "name": "stderr",
     "output_type": "stream",
     "text": [
      "Using TensorFlow backend.\n",
      "C:\\Users\\User\\anaconda3\\lib\\site-packages\\tensorflow\\python\\framework\\dtypes.py:516: FutureWarning: Passing (type, 1) or '1type' as a synonym of type is deprecated; in a future version of numpy, it will be understood as (type, (1,)) / '(1,)type'.\n",
      "  _np_qint8 = np.dtype([(\"qint8\", np.int8, 1)])\n",
      "C:\\Users\\User\\anaconda3\\lib\\site-packages\\tensorflow\\python\\framework\\dtypes.py:517: FutureWarning: Passing (type, 1) or '1type' as a synonym of type is deprecated; in a future version of numpy, it will be understood as (type, (1,)) / '(1,)type'.\n",
      "  _np_quint8 = np.dtype([(\"quint8\", np.uint8, 1)])\n",
      "C:\\Users\\User\\anaconda3\\lib\\site-packages\\tensorflow\\python\\framework\\dtypes.py:518: FutureWarning: Passing (type, 1) or '1type' as a synonym of type is deprecated; in a future version of numpy, it will be understood as (type, (1,)) / '(1,)type'.\n",
      "  _np_qint16 = np.dtype([(\"qint16\", np.int16, 1)])\n",
      "C:\\Users\\User\\anaconda3\\lib\\site-packages\\tensorflow\\python\\framework\\dtypes.py:519: FutureWarning: Passing (type, 1) or '1type' as a synonym of type is deprecated; in a future version of numpy, it will be understood as (type, (1,)) / '(1,)type'.\n",
      "  _np_quint16 = np.dtype([(\"quint16\", np.uint16, 1)])\n",
      "C:\\Users\\User\\anaconda3\\lib\\site-packages\\tensorflow\\python\\framework\\dtypes.py:520: FutureWarning: Passing (type, 1) or '1type' as a synonym of type is deprecated; in a future version of numpy, it will be understood as (type, (1,)) / '(1,)type'.\n",
      "  _np_qint32 = np.dtype([(\"qint32\", np.int32, 1)])\n",
      "C:\\Users\\User\\anaconda3\\lib\\site-packages\\tensorflow\\python\\framework\\dtypes.py:525: FutureWarning: Passing (type, 1) or '1type' as a synonym of type is deprecated; in a future version of numpy, it will be understood as (type, (1,)) / '(1,)type'.\n",
      "  np_resource = np.dtype([(\"resource\", np.ubyte, 1)])\n",
      "C:\\Users\\User\\anaconda3\\lib\\site-packages\\tensorboard\\compat\\tensorflow_stub\\dtypes.py:541: FutureWarning: Passing (type, 1) or '1type' as a synonym of type is deprecated; in a future version of numpy, it will be understood as (type, (1,)) / '(1,)type'.\n",
      "  _np_qint8 = np.dtype([(\"qint8\", np.int8, 1)])\n",
      "C:\\Users\\User\\anaconda3\\lib\\site-packages\\tensorboard\\compat\\tensorflow_stub\\dtypes.py:542: FutureWarning: Passing (type, 1) or '1type' as a synonym of type is deprecated; in a future version of numpy, it will be understood as (type, (1,)) / '(1,)type'.\n",
      "  _np_quint8 = np.dtype([(\"quint8\", np.uint8, 1)])\n",
      "C:\\Users\\User\\anaconda3\\lib\\site-packages\\tensorboard\\compat\\tensorflow_stub\\dtypes.py:543: FutureWarning: Passing (type, 1) or '1type' as a synonym of type is deprecated; in a future version of numpy, it will be understood as (type, (1,)) / '(1,)type'.\n",
      "  _np_qint16 = np.dtype([(\"qint16\", np.int16, 1)])\n",
      "C:\\Users\\User\\anaconda3\\lib\\site-packages\\tensorboard\\compat\\tensorflow_stub\\dtypes.py:544: FutureWarning: Passing (type, 1) or '1type' as a synonym of type is deprecated; in a future version of numpy, it will be understood as (type, (1,)) / '(1,)type'.\n",
      "  _np_quint16 = np.dtype([(\"quint16\", np.uint16, 1)])\n",
      "C:\\Users\\User\\anaconda3\\lib\\site-packages\\tensorboard\\compat\\tensorflow_stub\\dtypes.py:545: FutureWarning: Passing (type, 1) or '1type' as a synonym of type is deprecated; in a future version of numpy, it will be understood as (type, (1,)) / '(1,)type'.\n",
      "  _np_qint32 = np.dtype([(\"qint32\", np.int32, 1)])\n",
      "C:\\Users\\User\\anaconda3\\lib\\site-packages\\tensorboard\\compat\\tensorflow_stub\\dtypes.py:550: FutureWarning: Passing (type, 1) or '1type' as a synonym of type is deprecated; in a future version of numpy, it will be understood as (type, (1,)) / '(1,)type'.\n",
      "  np_resource = np.dtype([(\"resource\", np.ubyte, 1)])\n"
     ]
    }
   ],
   "source": [
    "# Install Tensorflow\n",
    "# Install Keras\n",
    "# Importing the Keras libraries and packages\n",
    "import keras\n",
    "from keras.models import Sequential\n",
    "from keras.layers import Dense"
   ]
  },
  {
   "cell_type": "code",
   "execution_count": 7,
   "metadata": {},
   "outputs": [
    {
     "name": "stderr",
     "output_type": "stream",
     "text": [
      "C:\\Users\\User\\anaconda3\\lib\\site-packages\\ipykernel_launcher.py:5: UserWarning: Update your `Dense` call to the Keras 2 API: `Dense(activation=\"tanh\", input_dim=4, units=6)`\n",
      "  \"\"\"\n",
      "C:\\Users\\User\\anaconda3\\lib\\site-packages\\ipykernel_launcher.py:8: UserWarning: Update your `Dense` call to the Keras 2 API: `Dense(activation=\"tanh\", units=6)`\n",
      "  \n",
      "C:\\Users\\User\\anaconda3\\lib\\site-packages\\ipykernel_launcher.py:11: UserWarning: Update your `Dense` call to the Keras 2 API: `Dense(activation=\"linear\", units=1)`\n",
      "  # This is added back by InteractiveShellApp.init_path()\n"
     ]
    }
   ],
   "source": [
    "# Initialising the ANN\n",
    "rnn = Sequential()\n",
    "\n",
    "# Adding the input layer and the first hidden layer\n",
    "rnn.add(Dense(output_dim = 6, activation = 'tanh', input_dim = 4))\n",
    "\n",
    "# Adding the second hidden layer\n",
    "rnn.add(Dense(output_dim = 6, activation = 'tanh'))\n",
    "\n",
    "# Adding the output layer\n",
    "rnn.add(Dense(output_dim = 1, activation = 'linear'))\n",
    "\n",
    "# Compiling the ANN\n",
    "rnn.compile(optimizer='adam', loss='mean_squared_error', metrics = ['accuracy'])"
   ]
  },
  {
   "cell_type": "code",
   "execution_count": 72,
   "metadata": {},
   "outputs": [
    {
     "name": "stderr",
     "output_type": "stream",
     "text": [
      "C:\\Users\\User\\anaconda3\\lib\\site-packages\\ipykernel_launcher.py:2: UserWarning: The `nb_epoch` argument in `fit` has been renamed `epochs`.\n",
      "  \n"
     ]
    },
    {
     "name": "stdout",
     "output_type": "stream",
     "text": [
      "Epoch 1/100\n",
      "173/173 [==============================] - 0s 1ms/step - loss: 0.5223 - accuracy: 0.0000e+00\n",
      "Epoch 2/100\n",
      "173/173 [==============================] - 0s 139us/step - loss: 0.4281 - accuracy: 0.0000e+00\n",
      "Epoch 3/100\n",
      "173/173 [==============================] - 0s 127us/step - loss: 0.3688 - accuracy: 0.0000e+00\n",
      "Epoch 4/100\n",
      "173/173 [==============================] - 0s 144us/step - loss: 0.3367 - accuracy: 0.0000e+00\n",
      "Epoch 5/100\n",
      "173/173 [==============================] - 0s 133us/step - loss: 0.3161 - accuracy: 0.0000e+00\n",
      "Epoch 6/100\n",
      "173/173 [==============================] - 0s 133us/step - loss: 0.3014 - accuracy: 0.0000e+00\n",
      "Epoch 7/100\n",
      "173/173 [==============================] - 0s 127us/step - loss: 0.2901 - accuracy: 0.0000e+00\n",
      "Epoch 8/100\n",
      "173/173 [==============================] - 0s 121us/step - loss: 0.2817 - accuracy: 0.0000e+00\n",
      "Epoch 9/100\n",
      "173/173 [==============================] - 0s 162us/step - loss: 0.2765 - accuracy: 0.0000e+00\n",
      "Epoch 10/100\n",
      "173/173 [==============================] - 0s 127us/step - loss: 0.2690 - accuracy: 0.0000e+00\n",
      "Epoch 11/100\n",
      "173/173 [==============================] - 0s 121us/step - loss: 0.2647 - accuracy: 0.0000e+00\n",
      "Epoch 12/100\n",
      "173/173 [==============================] - 0s 133us/step - loss: 0.2594 - accuracy: 0.0000e+00\n",
      "Epoch 13/100\n",
      "173/173 [==============================] - 0s 133us/step - loss: 0.2555 - accuracy: 0.0000e+00\n",
      "Epoch 14/100\n",
      "173/173 [==============================] - 0s 150us/step - loss: 0.2517 - accuracy: 0.0000e+00\n",
      "Epoch 15/100\n",
      "173/173 [==============================] - 0s 127us/step - loss: 0.2482 - accuracy: 0.0000e+00\n",
      "Epoch 16/100\n",
      "173/173 [==============================] - 0s 144us/step - loss: 0.2456 - accuracy: 0.0000e+00\n",
      "Epoch 17/100\n",
      "173/173 [==============================] - 0s 150us/step - loss: 0.2430 - accuracy: 0.0000e+00\n",
      "Epoch 18/100\n",
      "173/173 [==============================] - 0s 150us/step - loss: 0.2417 - accuracy: 0.0000e+00\n",
      "Epoch 19/100\n",
      "173/173 [==============================] - 0s 150us/step - loss: 0.2393 - accuracy: 0.0000e+00\n",
      "Epoch 20/100\n",
      "173/173 [==============================] - 0s 133us/step - loss: 0.2358 - accuracy: 0.0000e+00\n",
      "Epoch 21/100\n",
      "173/173 [==============================] - 0s 150us/step - loss: 0.2347 - accuracy: 0.0000e+00\n",
      "Epoch 22/100\n",
      "173/173 [==============================] - 0s 196us/step - loss: 0.2331 - accuracy: 0.0000e+00\n",
      "Epoch 23/100\n",
      "173/173 [==============================] - 0s 196us/step - loss: 0.2292 - accuracy: 0.0000e+00\n",
      "Epoch 24/100\n",
      "173/173 [==============================] - 0s 220us/step - loss: 0.2272 - accuracy: 0.0000e+00\n",
      "Epoch 25/100\n",
      "173/173 [==============================] - 0s 179us/step - loss: 0.2269 - accuracy: 0.0000e+00\n",
      "Epoch 26/100\n",
      "173/173 [==============================] - 0s 173us/step - loss: 0.2245 - accuracy: 0.0000e+00\n",
      "Epoch 27/100\n",
      "173/173 [==============================] - 0s 202us/step - loss: 0.2251 - accuracy: 0.0000e+00\n",
      "Epoch 28/100\n",
      "173/173 [==============================] - 0s 220us/step - loss: 0.2216 - accuracy: 0.0000e+00\n",
      "Epoch 29/100\n",
      "173/173 [==============================] - 0s 168us/step - loss: 0.2213 - accuracy: 0.0000e+00\n",
      "Epoch 30/100\n",
      "173/173 [==============================] - 0s 185us/step - loss: 0.2198 - accuracy: 0.0000e+00\n",
      "Epoch 31/100\n",
      "173/173 [==============================] - 0s 185us/step - loss: 0.2185 - accuracy: 0.0000e+00\n",
      "Epoch 32/100\n",
      "173/173 [==============================] - 0s 185us/step - loss: 0.2182 - accuracy: 0.0000e+00\n",
      "Epoch 33/100\n",
      "173/173 [==============================] - 0s 173us/step - loss: 0.2171 - accuracy: 0.0000e+00\n",
      "Epoch 34/100\n",
      "173/173 [==============================] - 0s 179us/step - loss: 0.2160 - accuracy: 0.0000e+00\n",
      "Epoch 35/100\n",
      "173/173 [==============================] - 0s 191us/step - loss: 0.2151 - accuracy: 0.0000e+00\n",
      "Epoch 36/100\n",
      "173/173 [==============================] - 0s 185us/step - loss: 0.2141 - accuracy: 0.0000e+00\n",
      "Epoch 37/100\n",
      "173/173 [==============================] - 0s 185us/step - loss: 0.2169 - accuracy: 0.0000e+00\n",
      "Epoch 38/100\n",
      "173/173 [==============================] - 0s 168us/step - loss: 0.2117 - accuracy: 0.0000e+00\n",
      "Epoch 39/100\n",
      "173/173 [==============================] - 0s 185us/step - loss: 0.2109 - accuracy: 0.0000e+00\n",
      "Epoch 40/100\n",
      "173/173 [==============================] - 0s 162us/step - loss: 0.2106 - accuracy: 0.0000e+00\n",
      "Epoch 41/100\n",
      "173/173 [==============================] - 0s 173us/step - loss: 0.2091 - accuracy: 0.0000e+00\n",
      "Epoch 42/100\n",
      "173/173 [==============================] - 0s 173us/step - loss: 0.2087 - accuracy: 0.0000e+00\n",
      "Epoch 43/100\n",
      "173/173 [==============================] - 0s 208us/step - loss: 0.2083 - accuracy: 0.0000e+00\n",
      "Epoch 44/100\n",
      "173/173 [==============================] - 0s 191us/step - loss: 0.2066 - accuracy: 0.0000e+00\n",
      "Epoch 45/100\n",
      "173/173 [==============================] - 0s 185us/step - loss: 0.2078 - accuracy: 0.0000e+00\n",
      "Epoch 46/100\n",
      "173/173 [==============================] - 0s 168us/step - loss: 0.2051 - accuracy: 0.0000e+00\n",
      "Epoch 47/100\n",
      "173/173 [==============================] - 0s 202us/step - loss: 0.2053 - accuracy: 0.0000e+00\n",
      "Epoch 48/100\n",
      "173/173 [==============================] - 0s 185us/step - loss: 0.2035 - accuracy: 0.0000e+00\n",
      "Epoch 49/100\n",
      "173/173 [==============================] - 0s 185us/step - loss: 0.2065 - accuracy: 0.0000e+00\n",
      "Epoch 50/100\n",
      "173/173 [==============================] - ETA: 0s - loss: 0.1786 - accuracy: 0.0000e+ - 0s 202us/step - loss: 0.2029 - accuracy: 0.0000e+00\n",
      "Epoch 51/100\n",
      "173/173 [==============================] - 0s 162us/step - loss: 0.2005 - accuracy: 0.0000e+00\n",
      "Epoch 52/100\n",
      "173/173 [==============================] - 0s 214us/step - loss: 0.2014 - accuracy: 0.0000e+00\n",
      "Epoch 53/100\n",
      "173/173 [==============================] - 0s 277us/step - loss: 0.2071 - accuracy: 0.0000e+00\n",
      "Epoch 54/100\n",
      "173/173 [==============================] - 0s 237us/step - loss: 0.2006 - accuracy: 0.0000e+00\n",
      "Epoch 55/100\n",
      "173/173 [==============================] - 0s 168us/step - loss: 0.1993 - accuracy: 0.0000e+00\n",
      "Epoch 56/100\n",
      "173/173 [==============================] - 0s 179us/step - loss: 0.1995 - accuracy: 0.0000e+00\n",
      "Epoch 57/100\n",
      "173/173 [==============================] - 0s 208us/step - loss: 0.2011 - accuracy: 0.0000e+00\n",
      "Epoch 58/100\n",
      "173/173 [==============================] - 0s 191us/step - loss: 0.1976 - accuracy: 0.0000e+00\n",
      "Epoch 59/100\n",
      "173/173 [==============================] - 0s 173us/step - loss: 0.1979 - accuracy: 0.0000e+00\n",
      "Epoch 60/100\n",
      "173/173 [==============================] - 0s 191us/step - loss: 0.1970 - accuracy: 0.0000e+00\n",
      "Epoch 61/100\n",
      "173/173 [==============================] - 0s 179us/step - loss: 0.1964 - accuracy: 0.0000e+00\n",
      "Epoch 62/100\n",
      "173/173 [==============================] - 0s 173us/step - loss: 0.1953 - accuracy: 0.0000e+00\n",
      "Epoch 63/100\n",
      "173/173 [==============================] - 0s 237us/step - loss: 0.1950 - accuracy: 0.0000e+00\n",
      "Epoch 64/100\n",
      "173/173 [==============================] - 0s 173us/step - loss: 0.1943 - accuracy: 0.0000e+00\n",
      "Epoch 65/100\n",
      "173/173 [==============================] - 0s 191us/step - loss: 0.1943 - accuracy: 0.0000e+00\n",
      "Epoch 66/100\n",
      "173/173 [==============================] - 0s 196us/step - loss: 0.1937 - accuracy: 0.0000e+00\n",
      "Epoch 67/100\n",
      "173/173 [==============================] - 0s 168us/step - loss: 0.1948 - accuracy: 0.0000e+00\n",
      "Epoch 68/100\n",
      "173/173 [==============================] - 0s 162us/step - loss: 0.1927 - accuracy: 0.0000e+00\n",
      "Epoch 69/100\n",
      "173/173 [==============================] - 0s 168us/step - loss: 0.1926 - accuracy: 0.0000e+00\n",
      "Epoch 70/100\n",
      "173/173 [==============================] - 0s 173us/step - loss: 0.1929 - accuracy: 0.0000e+00\n",
      "Epoch 71/100\n",
      "173/173 [==============================] - 0s 237us/step - loss: 0.1920 - accuracy: 0.0000e+00\n",
      "Epoch 72/100\n",
      "173/173 [==============================] - 0s 162us/step - loss: 0.1913 - accuracy: 0.0000e+00\n",
      "Epoch 73/100\n",
      "173/173 [==============================] - 0s 191us/step - loss: 0.1908 - accuracy: 0.0000e+00\n",
      "Epoch 74/100\n",
      "173/173 [==============================] - 0s 196us/step - loss: 0.1926 - accuracy: 0.0000e+00\n",
      "Epoch 75/100\n",
      "173/173 [==============================] - 0s 208us/step - loss: 0.1877 - accuracy: 0.0000e+00\n",
      "Epoch 76/100\n",
      "173/173 [==============================] - 0s 225us/step - loss: 0.1898 - accuracy: 0.0000e+00\n",
      "Epoch 77/100\n",
      "173/173 [==============================] - 0s 231us/step - loss: 0.1907 - accuracy: 0.0000e+00\n",
      "Epoch 78/100\n",
      "173/173 [==============================] - 0s 179us/step - loss: 0.1887 - accuracy: 0.0000e+00\n",
      "Epoch 79/100\n",
      "173/173 [==============================] - 0s 168us/step - loss: 0.1885 - accuracy: 0.0000e+00\n",
      "Epoch 80/100\n",
      "173/173 [==============================] - 0s 150us/step - loss: 0.1878 - accuracy: 0.0000e+00\n",
      "Epoch 81/100\n",
      "173/173 [==============================] - 0s 156us/step - loss: 0.1877 - accuracy: 0.0000e+00\n",
      "Epoch 82/100\n",
      "173/173 [==============================] - 0s 162us/step - loss: 0.1888 - accuracy: 0.0000e+00\n",
      "Epoch 83/100\n",
      "173/173 [==============================] - 0s 150us/step - loss: 0.1873 - accuracy: 0.0000e+00\n",
      "Epoch 84/100\n",
      "173/173 [==============================] - 0s 144us/step - loss: 0.1863 - accuracy: 0.0000e+00\n",
      "Epoch 85/100\n",
      "173/173 [==============================] - 0s 139us/step - loss: 0.1868 - accuracy: 0.0000e+00\n",
      "Epoch 86/100\n",
      "173/173 [==============================] - 0s 139us/step - loss: 0.1872 - accuracy: 0.0000e+00\n",
      "Epoch 87/100\n",
      "173/173 [==============================] - 0s 127us/step - loss: 0.1847 - accuracy: 0.0000e+00\n",
      "Epoch 88/100\n",
      "173/173 [==============================] - 0s 144us/step - loss: 0.1855 - accuracy: 0.0000e+00\n",
      "Epoch 89/100\n",
      "173/173 [==============================] - 0s 162us/step - loss: 0.1848 - accuracy: 0.0000e+00\n",
      "Epoch 90/100\n",
      "173/173 [==============================] - 0s 173us/step - loss: 0.1855 - accuracy: 0.0000e+00\n",
      "Epoch 91/100\n",
      "173/173 [==============================] - 0s 139us/step - loss: 0.1838 - accuracy: 0.0000e+00\n",
      "Epoch 92/100\n",
      "173/173 [==============================] - 0s 144us/step - loss: 0.1846 - accuracy: 0.0000e+00\n",
      "Epoch 93/100\n",
      "173/173 [==============================] - 0s 162us/step - loss: 0.1826 - accuracy: 0.0000e+00\n",
      "Epoch 94/100\n",
      "173/173 [==============================] - 0s 162us/step - loss: 0.1830 - accuracy: 0.0000e+00\n",
      "Epoch 95/100\n",
      "173/173 [==============================] - 0s 150us/step - loss: 0.1832 - accuracy: 0.0000e+00\n",
      "Epoch 96/100\n",
      "173/173 [==============================] - 0s 173us/step - loss: 0.1816 - accuracy: 0.0000e+00\n",
      "Epoch 97/100\n",
      "173/173 [==============================] - 0s 133us/step - loss: 0.1872 - accuracy: 0.0000e+00\n",
      "Epoch 98/100\n",
      "173/173 [==============================] - 0s 116us/step - loss: 0.1822 - accuracy: 0.0000e+00\n",
      "Epoch 99/100\n",
      "173/173 [==============================] - 0s 144us/step - loss: 0.1818 - accuracy: 0.0000e+00\n",
      "Epoch 100/100\n",
      "173/173 [==============================] - 0s 156us/step - loss: 0.1819 - accuracy: 0.0000e+00\n"
     ]
    },
    {
     "data": {
      "text/plain": [
       "<keras.callbacks.callbacks.History at 0x1cdafd729c8>"
      ]
     },
     "execution_count": 72,
     "metadata": {},
     "output_type": "execute_result"
    }
   ],
   "source": [
    "# Fitting the ANN to the Training set\n",
    "rnn.fit(X_train, y_train, batch_size = 10, nb_epoch = 100)"
   ]
  },
  {
   "cell_type": "code",
   "execution_count": 73,
   "metadata": {},
   "outputs": [],
   "source": [
    "# Predicting the Test set results\n",
    "y_pred = rnn.predict(X_test)"
   ]
  },
  {
   "cell_type": "code",
   "execution_count": 74,
   "metadata": {},
   "outputs": [
    {
     "data": {
      "image/png": "[encoded data removed]",
      "text/plain": [
       "<Figure size 432x288 with 1 Axes>"
      ]
     },
     "metadata": {
      "needs_background": "light"
     },
     "output_type": "display_data"
    }
   ],
   "source": [
    "# Visualising the Training set results\n",
    "plt.scatter(X_train[:,3], y_train, color = 'red')\n",
    "plt.plot(X_train[:,3], rnn.predict(X_train), 'bo')\n",
    "plt.title('Price vs M2 (Training set)')\n",
    "plt.xlabel('M2')\n",
    "plt.ylabel('Price')\n",
    "plt.show()"
   ]
  },
  {
   "cell_type": "code",
   "execution_count": 75,
   "metadata": {},
   "outputs": [
    {
     "data": {
      "image/png": "[encoded data removed]",
      "text/plain": [
       "<Figure size 432x288 with 1 Axes>"
      ]
     },
     "metadata": {
      "needs_background": "light"
     },
     "output_type": "display_data"
    }
   ],
   "source": [
    "# Visualising the Test set results\n",
    "plt.scatter(X_test[:,3], y_test, color = 'red')\n",
    "plt.plot(X_test[:,3], rnn.predict(X_test), 'bo')\n",
    "plt.title('Price vs M2 (Test set)')\n",
    "plt.xlabel('M2')\n",
    "plt.ylabel('Price')\n",
    "plt.show()"
   ]
  }
 ],
 "metadata": {
  "kernelspec": {
   "display_name": "Python 3",
   "language": "python",
   "name": "python3"
  },
  "language_info": {
   "codemirror_mode": {
    "name": "ipython",
    "version": 3
   },
   "file_extension": ".py",
   "mimetype": "text/x-python",
   "name": "python",
   "nbconvert_exporter": "python",
   "pygments_lexer": "ipython3",
   "version": "3.7.6"
  }
 },
 "nbformat": 4,
 "nbformat_minor": 4
}
